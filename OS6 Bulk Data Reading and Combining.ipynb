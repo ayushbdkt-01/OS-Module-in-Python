{
 "cells": [
  {
   "cell_type": "code",
   "execution_count": 1,
   "id": "3531f4ce-fefc-4c52-9a48-b5e251f9e208",
   "metadata": {},
   "outputs": [],
   "source": [
    "import os\n",
    "# reading data from several files and storing the whole data into a single file"
   ]
  },
  {
   "cell_type": "code",
   "execution_count": 2,
   "id": "22fac9eb-6ac3-4efe-9921-b166472a4ecd",
   "metadata": {},
   "outputs": [
    {
     "data": {
      "text/plain": [
       "'C:\\\\Users\\\\ayush\\\\Desktop\\\\Topic 2 Jupyter\\\\OS Module'"
      ]
     },
     "execution_count": 2,
     "metadata": {},
     "output_type": "execute_result"
    }
   ],
   "source": [
    "os.getcwd()"
   ]
  },
  {
   "cell_type": "code",
   "execution_count": 11,
   "id": "e73fe000-a20e-479b-827d-aab748da832a",
   "metadata": {},
   "outputs": [],
   "source": [
    "os.chdir(\"C:\\\\Users\\\\ayush\\\\Desktop\\\\Ayush\")"
   ]
  },
  {
   "cell_type": "code",
   "execution_count": 12,
   "id": "fdd56106-47d6-4d3c-8abb-09fa48408855",
   "metadata": {},
   "outputs": [],
   "source": [
    "l=os.listdir()"
   ]
  },
  {
   "cell_type": "code",
   "execution_count": 13,
   "id": "93e6d926-46ae-49aa-ad9b-5218094994af",
   "metadata": {},
   "outputs": [
    {
     "data": {
      "text/plain": [
       "['file1.txt', 'file2.txt', 'file3.txt']"
      ]
     },
     "execution_count": 13,
     "metadata": {},
     "output_type": "execute_result"
    }
   ],
   "source": [
    "l"
   ]
  },
  {
   "cell_type": "code",
   "execution_count": 19,
   "id": "c9aaaa5d-117c-4cad-88c7-5f34b02295a6",
   "metadata": {},
   "outputs": [
    {
     "name": "stdout",
     "output_type": "stream",
     "text": [
      "This is file 1\n",
      "This is file 2\n",
      "This is file 3\n",
      "\n",
      "\n"
     ]
    }
   ],
   "source": [
    "# alternately we can take an empty string and appending the data of each file and finally writing this string to the data.txt\n",
    "for i in l:\n",
    "    ff=open(\"data.txt\",'a')\n",
    "    fd=open(i,'r')\n",
    "    text=fd.read()\n",
    "    ff.write(text+'\\n\\n')\n",
    "    ff.close()\n",
    "    print(text)\n",
    "fd.close()"
   ]
  },
  {
   "cell_type": "code",
   "execution_count": null,
   "id": "e96559c8-6f2e-4f7f-9dc1-c9058b8015bd",
   "metadata": {},
   "outputs": [],
   "source": []
  },
  {
   "cell_type": "code",
   "execution_count": null,
   "id": "e2d2b27f-b6eb-47ad-a42f-3dd5206fe420",
   "metadata": {},
   "outputs": [],
   "source": []
  }
 ],
 "metadata": {
  "kernelspec": {
   "display_name": "Python 3 (ipykernel)",
   "language": "python",
   "name": "python3"
  },
  "language_info": {
   "codemirror_mode": {
    "name": "ipython",
    "version": 3
   },
   "file_extension": ".py",
   "mimetype": "text/x-python",
   "name": "python",
   "nbconvert_exporter": "python",
   "pygments_lexer": "ipython3",
   "version": "3.11.7"
  }
 },
 "nbformat": 4,
 "nbformat_minor": 5
}
