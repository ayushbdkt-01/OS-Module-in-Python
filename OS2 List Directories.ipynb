{
 "cells": [
  {
   "cell_type": "code",
   "execution_count": 2,
   "id": "53c151c9-1157-4009-be7b-6d8745661542",
   "metadata": {},
   "outputs": [],
   "source": [
    "import os"
   ]
  },
  {
   "cell_type": "code",
   "execution_count": 3,
   "id": "ab934305-b071-47fc-957d-cee6b26c9f25",
   "metadata": {},
   "outputs": [
    {
     "data": {
      "text/plain": [
       "'C:\\\\Users\\\\ayush\\\\Desktop\\\\Topic 2 Jupyter\\\\OS Module'"
      ]
     },
     "execution_count": 3,
     "metadata": {},
     "output_type": "execute_result"
    }
   ],
   "source": [
    "os.getcwd()"
   ]
  },
  {
   "cell_type": "code",
   "execution_count": 4,
   "id": "7646935c-fbfd-4b49-94d5-aac987a80f9c",
   "metadata": {},
   "outputs": [],
   "source": [
    "os.chdir(\"C:\\\\Users\\\\ayush\\\\Desktop\")"
   ]
  },
  {
   "cell_type": "code",
   "execution_count": 5,
   "id": "5d8856d5-b91a-46ca-a311-75d5a1186e91",
   "metadata": {},
   "outputs": [],
   "source": [
    "os.remove(\"bill.txt\")\n",
    "# deletes a file"
   ]
  },
  {
   "cell_type": "code",
   "execution_count": null,
   "id": "22975490-fc7c-40d9-9c66-b4bccbb39c26",
   "metadata": {},
   "outputs": [],
   "source": [
    "os.rmdir(\"Ayush\")\n",
    "# deletes a folder named \"Ayush\""
   ]
  },
  {
   "cell_type": "code",
   "execution_count": 8,
   "id": "33d9a83c-4609-497a-a95e-ba808baffaa8",
   "metadata": {},
   "outputs": [
    {
     "data": {
      "text/plain": [
       "['desktop.ini', 'Screenshots', 'Topic 2 Jupyter']"
      ]
     },
     "execution_count": 8,
     "metadata": {},
     "output_type": "execute_result"
    }
   ],
   "source": [
    "os.listdir()\n",
    "# list of all files and folders in the current directry"
   ]
  },
  {
   "cell_type": "code",
   "execution_count": 9,
   "id": "6ae05505-28a5-4fde-be85-f0c150774457",
   "metadata": {},
   "outputs": [
    {
     "data": {
      "text/plain": [
       "['.ipynb_checkpoints',\n",
       " 'data.txt',\n",
       " 'data2.txt',\n",
       " 'Inventory Management System',\n",
       " 'Inventory Management System Using JSON',\n",
       " 'Notebook1 Basics.ipynb',\n",
       " 'Notebook2 File Read.ipynb',\n",
       " 'Notebook3 Reading Text Corpus.ipynb',\n",
       " 'Notebook4 Data PreProcessing.ipynb',\n",
       " 'Notebook5 Advanced Text  Processing.ipynb',\n",
       " 'Notebook6 Creating and Writing Data to File.ipynb',\n",
       " 'Numpy',\n",
       " 'OS Module']"
      ]
     },
     "execution_count": 9,
     "metadata": {},
     "output_type": "execute_result"
    }
   ],
   "source": [
    "os.listdir(\"Topic 2 Jupyter\")\n",
    "# list of all files and folders in the folder \"Topic 2 Jupyter\""
   ]
  },
  {
   "cell_type": "code",
   "execution_count": 1,
   "id": "da0838a0-4725-4c8b-bb33-d1ba68fb87f5",
   "metadata": {},
   "outputs": [
    {
     "ename": "NameError",
     "evalue": "name 'os' is not defined",
     "output_type": "error",
     "traceback": [
      "\u001b[1;31m---------------------------------------------------------------------------\u001b[0m",
      "\u001b[1;31mNameError\u001b[0m                                 Traceback (most recent call last)",
      "\u001b[1;32mc:\\Users\\ayush\\Desktop\\Topic 2 Jupyter\\OS Module\\OS2 List Directories.ipynb Cell 8\u001b[0m line \u001b[0;36m1\n\u001b[1;32m----> <a href='vscode-notebook-cell:/c%3A/Users/ayush/Desktop/Topic%202%20Jupyter/OS%20Module/OS2%20List%20Directories.ipynb#X10sZmlsZQ%3D%3D?line=0'>1</a>\u001b[0m os\u001b[39m.\u001b[39mrename(\u001b[39m\"\u001b[39m\u001b[39mbil.txt\u001b[39m\u001b[39m\"\u001b[39m,\u001b[39m\"\u001b[39m\u001b[39mBill.txt\u001b[39m\u001b[39m\"\u001b[39m)\n",
      "\u001b[1;31mNameError\u001b[0m: name 'os' is not defined"
     ]
    }
   ],
   "source": [
    "os.rename(\"bil.txt\",\"Bill.txt\")\n",
    "# rename the file from this to this"
   ]
  },
  {
   "cell_type": "code",
   "execution_count": 11,
   "id": "61f49b30-25b4-4e90-a5f5-f2f6cf60ccf2",
   "metadata": {},
   "outputs": [],
   "source": [
    "os.remove(\"Bill.txt\")\n",
    "# deletes the file"
   ]
  },
  {
   "cell_type": "code",
   "execution_count": 16,
   "id": "2f934c9f-443a-41e5-a364-f36b66ac4ef4",
   "metadata": {},
   "outputs": [
    {
     "data": {
      "text/plain": [
       "False"
      ]
     },
     "execution_count": 16,
     "metadata": {},
     "output_type": "execute_result"
    }
   ],
   "source": [
    "# check that path exists or not\n",
    "os.path.exists(\"Topic 2 Jupyter\")\n",
    "os.path.exists(\"Topic 2 Jupyter/ayush\")"
   ]
  },
  {
   "cell_type": "code",
   "execution_count": 20,
   "id": "e040712c-d40d-4454-930e-f0c0c2de334c",
   "metadata": {},
   "outputs": [
    {
     "name": "stdout",
     "output_type": "stream",
     "text": [
      "Folder created..\n"
     ]
    }
   ],
   "source": [
    "if os.path.exists(\"Topic 2 Jupyter/Delete This Flder\"):\n",
    "    print(\"Folder already exists!\")\n",
    "else:\n",
    "    os.mkdir(\"Topic 2 Jupyter/Delete This Flder\")\n",
    "    print(\"Folder created..\")"
   ]
  },
  {
   "cell_type": "code",
   "execution_count": null,
   "id": "c5ef1759-a712-4c8c-b24f-4ca1278c4961",
   "metadata": {},
   "outputs": [],
   "source": []
  }
 ],
 "metadata": {
  "kernelspec": {
   "display_name": "Python 3 (ipykernel)",
   "language": "python",
   "name": "python3"
  },
  "language_info": {
   "codemirror_mode": {
    "name": "ipython",
    "version": 3
   },
   "file_extension": ".py",
   "mimetype": "text/x-python",
   "name": "python",
   "nbconvert_exporter": "python",
   "pygments_lexer": "ipython3",
   "version": "3.11.7"
  }
 },
 "nbformat": 4,
 "nbformat_minor": 5
}
