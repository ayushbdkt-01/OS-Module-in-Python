{
 "cells": [
  {
   "cell_type": "code",
   "execution_count": 1,
   "id": "a62bda2f-408e-4030-9c22-6325c29e8465",
   "metadata": {},
   "outputs": [],
   "source": [
    "import os"
   ]
  },
  {
   "cell_type": "code",
   "execution_count": 2,
   "id": "5d57fd17-dfb9-4758-9546-e75a3aa4ab28",
   "metadata": {},
   "outputs": [
    {
     "data": {
      "text/plain": [
       "'C:\\\\Users\\\\ayush\\\\Desktop\\\\Topic 2 Jupyter\\\\OS Module'"
      ]
     },
     "execution_count": 2,
     "metadata": {},
     "output_type": "execute_result"
    }
   ],
   "source": [
    "os.getcwd()"
   ]
  },
  {
   "cell_type": "code",
   "execution_count": 14,
   "id": "35477755-ca39-46ae-90d4-7a54e5dc574e",
   "metadata": {},
   "outputs": [],
   "source": [
    "os.chdir(\"C:\\\\Users\\\\ayush\\\\Desktop\\\\Ayush\")"
   ]
  },
  {
   "cell_type": "code",
   "execution_count": 17,
   "id": "82c7a5dc-6052-4b1f-b806-9cec4c66bb9d",
   "metadata": {},
   "outputs": [],
   "source": [
    "# converted all files into a list\n",
    "l=os.listdir()"
   ]
  },
  {
   "cell_type": "code",
   "execution_count": 20,
   "id": "a64864c2-8a23-4934-ae49-43a37a3e6e01",
   "metadata": {},
   "outputs": [
    {
     "name": "stdout",
     "output_type": "stream",
     "text": [
      "This is file 1\n",
      "This is file 2\n",
      "This is file 3\n",
      "\n",
      "\n"
     ]
    }
   ],
   "source": [
    "# traversing the list and reading data from each file and finally printing the data\n",
    "for i in l:\n",
    "    fd=open(i,'r')\n",
    "    print(fd.read())"
   ]
  },
  {
   "cell_type": "code",
   "execution_count": null,
   "id": "4c98243d-3b79-4290-b26d-cc42cf8aac75",
   "metadata": {},
   "outputs": [],
   "source": []
  }
 ],
 "metadata": {
  "kernelspec": {
   "display_name": "Python 3 (ipykernel)",
   "language": "python",
   "name": "python3"
  },
  "language_info": {
   "codemirror_mode": {
    "name": "ipython",
    "version": 3
   },
   "file_extension": ".py",
   "mimetype": "text/x-python",
   "name": "python",
   "nbconvert_exporter": "python",
   "pygments_lexer": "ipython3",
   "version": "3.11.7"
  }
 },
 "nbformat": 4,
 "nbformat_minor": 5
}
