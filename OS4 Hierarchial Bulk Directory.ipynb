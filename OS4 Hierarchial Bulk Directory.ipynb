{
 "cells": [
  {
   "cell_type": "code",
   "execution_count": 6,
   "id": "de1ebb0d-e36d-4eaf-af97-5687f36575e6",
   "metadata": {},
   "outputs": [],
   "source": [
    "import os\n",
    "# in this file, we are going to make directory inside directory and so on...."
   ]
  },
  {
   "cell_type": "code",
   "execution_count": 7,
   "id": "07fd5655-aa94-46d1-ad38-a36c360684ec",
   "metadata": {},
   "outputs": [
    {
     "data": {
      "text/plain": [
       "'C:\\\\Users\\\\ayush\\\\Desktop\\\\Topic 2 Jupyter\\\\OS Module'"
      ]
     },
     "execution_count": 7,
     "metadata": {},
     "output_type": "execute_result"
    }
   ],
   "source": [
    "os.getcwd()"
   ]
  },
  {
   "cell_type": "code",
   "execution_count": 8,
   "id": "f4637c18-a98c-437e-882f-9dc0e0f39d1d",
   "metadata": {},
   "outputs": [],
   "source": [
    "os.chdir(\"C:\\\\Users\\\\ayush\\\\Desktop\")"
   ]
  },
  {
   "cell_type": "code",
   "execution_count": 9,
   "id": "66c9c2c1-8c8e-42a0-8bdd-5ce5ee89208c",
   "metadata": {},
   "outputs": [],
   "source": [
    "\n",
    "master=\"Ayush\"\n",
    "os.mkdir(master)\n",
    "\n",
    "for i in range(10):\n",
    "    fname=master+'/'+master+str(i+1)\n",
    "    os.mkdir(fname)\n",
    "    for j in range(10):\n",
    "        fname=master+'/'+master+str(i+1)+'/'+master+str(j+1)\n",
    "        os.mkdir(fname)"
   ]
  },
  {
   "cell_type": "code",
   "execution_count": null,
   "id": "364bb667-9c6f-419a-b9cf-b837b47b134e",
   "metadata": {},
   "outputs": [],
   "source": []
  }
 ],
 "metadata": {
  "kernelspec": {
   "display_name": "Python 3 (ipykernel)",
   "language": "python",
   "name": "python3"
  },
  "language_info": {
   "codemirror_mode": {
    "name": "ipython",
    "version": 3
   },
   "file_extension": ".py",
   "mimetype": "text/x-python",
   "name": "python",
   "nbconvert_exporter": "python",
   "pygments_lexer": "ipython3",
   "version": "3.11.7"
  }
 },
 "nbformat": 4,
 "nbformat_minor": 5
}
