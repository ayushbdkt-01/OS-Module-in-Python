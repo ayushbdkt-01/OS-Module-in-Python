{
 "cells": [
  {
   "cell_type": "code",
   "execution_count": 14,
   "id": "b4c85bf1-6eef-4b2d-95b0-bb8af7d23f38",
   "metadata": {},
   "outputs": [],
   "source": [
    "import os"
   ]
  },
  {
   "cell_type": "code",
   "execution_count": 15,
   "id": "ec0dbe2d-72b0-43b9-bbf3-b8e8c15ce35d",
   "metadata": {},
   "outputs": [
    {
     "data": {
      "text/plain": [
       "'C:\\\\Users\\\\ayush\\\\Desktop'"
      ]
     },
     "execution_count": 15,
     "metadata": {},
     "output_type": "execute_result"
    }
   ],
   "source": [
    "os.getcwd()\n",
    "# get current working directry"
   ]
  },
  {
   "cell_type": "code",
   "execution_count": 16,
   "id": "6a1917f4-066e-474a-9272-eefd4f2ca75e",
   "metadata": {},
   "outputs": [],
   "source": [
    "os.chdir(\"C:\\\\Users\\\\ayush\\\\Desktop\")\n",
    "# change directry"
   ]
  },
  {
   "cell_type": "code",
   "execution_count": 17,
   "id": "b4394b36-2858-4ff7-8739-efdfb088d001",
   "metadata": {},
   "outputs": [
    {
     "data": {
      "text/plain": [
       "'C:\\\\Users\\\\ayush\\\\Desktop'"
      ]
     },
     "execution_count": 17,
     "metadata": {},
     "output_type": "execute_result"
    }
   ],
   "source": [
    "os.getcwd()"
   ]
  },
  {
   "cell_type": "code",
   "execution_count": null,
   "id": "20c06473-dc23-4bbb-b305-32e00fa16bc1",
   "metadata": {},
   "outputs": [],
   "source": [
    "os.chdir(\"Topic 2 jupyter\")"
   ]
  },
  {
   "cell_type": "code",
   "execution_count": null,
   "id": "78506b10-8f7a-405a-9628-955591dc7325",
   "metadata": {},
   "outputs": [],
   "source": [
    "os.getcwd()"
   ]
  },
  {
   "cell_type": "code",
   "execution_count": null,
   "id": "4ee38112-ff43-4dba-92fb-bd28ef337edf",
   "metadata": {},
   "outputs": [],
   "source": [
    "os.chdir(\"OS Module\")"
   ]
  },
  {
   "cell_type": "code",
   "execution_count": null,
   "id": "d113b31c-db7b-4fe3-90e7-da262634e282",
   "metadata": {},
   "outputs": [],
   "source": [
    "os.getcwd()"
   ]
  },
  {
   "cell_type": "code",
   "execution_count": null,
   "id": "980f623b-aecf-433a-9f3d-54178b37268a",
   "metadata": {},
   "outputs": [],
   "source": [
    "os.chdir(\"C:\\\\Users\\\\ayush\\\\Desktop\")"
   ]
  },
  {
   "cell_type": "code",
   "execution_count": null,
   "id": "32165f4d-c8df-4c9b-b274-7e4dc0883664",
   "metadata": {},
   "outputs": [],
   "source": [
    "os.mkdir(\"Ayush\")\n",
    "# creates a folder named \"Ayush\""
   ]
  },
  {
   "cell_type": "code",
   "execution_count": null,
   "id": "401413e0-f2e3-4b5d-9c3c-d2a9d1e7e779",
   "metadata": {},
   "outputs": [],
   "source": [
    "os.getcwd()"
   ]
  },
  {
   "cell_type": "code",
   "execution_count": null,
   "id": "389791f9-a251-4f66-b1fa-ff60d2236b99",
   "metadata": {},
   "outputs": [],
   "source": [
    "os.makedirs(\"Ankit/Pandey/is/a/good/boy\")\n",
    "# creates folder inside folders inside folders and so on..."
   ]
  },
  {
   "cell_type": "code",
   "execution_count": null,
   "id": "56184071-8174-4973-aa7d-8c479b1f13ef",
   "metadata": {},
   "outputs": [],
   "source": [
    "os.path.join(\"Ayush\",\"Joshi\")\n",
    "# joins the path of 2 files\n",
    "# basically concatenates two strings with a \"//\""
   ]
  }
 ],
 "metadata": {
  "kernelspec": {
   "display_name": "Python 3 (ipykernel)",
   "language": "python",
   "name": "python3"
  },
  "language_info": {
   "codemirror_mode": {
    "name": "ipython",
    "version": 3
   },
   "file_extension": ".py",
   "mimetype": "text/x-python",
   "name": "python",
   "nbconvert_exporter": "python",
   "pygments_lexer": "ipython3",
   "version": "3.11.7"
  }
 },
 "nbformat": 4,
 "nbformat_minor": 5
}
