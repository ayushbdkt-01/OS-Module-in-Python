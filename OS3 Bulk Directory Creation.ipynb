{
 "cells": [
  {
   "cell_type": "code",
   "execution_count": 1,
   "id": "8a1060e9-741d-4eb3-977a-6e15033063c5",
   "metadata": {},
   "outputs": [],
   "source": [
    "import os"
   ]
  },
  {
   "cell_type": "code",
   "execution_count": 3,
   "id": "532e8bc4-da5d-46e6-ac02-1aa4eef237eb",
   "metadata": {},
   "outputs": [
    {
     "data": {
      "text/plain": [
       "'C:\\\\Users\\\\ayush\\\\Desktop\\\\Topic 2 Jupyter\\\\OS Module'"
      ]
     },
     "execution_count": 3,
     "metadata": {},
     "output_type": "execute_result"
    }
   ],
   "source": [
    "os.getcwd()"
   ]
  },
  {
   "cell_type": "code",
   "execution_count": 4,
   "id": "541431c6-c9f6-497b-8136-6d2262e807f6",
   "metadata": {},
   "outputs": [],
   "source": [
    "os.chdir(\"C:\\\\Users\\\\ayush\\\\Desktop\")"
   ]
  },
  {
   "cell_type": "code",
   "execution_count": 5,
   "id": "8d115209-4f92-4991-98ae-e20f100098a7",
   "metadata": {},
   "outputs": [],
   "source": [
    "os.mkdir(\"Ayush\")"
   ]
  },
  {
   "cell_type": "code",
   "execution_count": 6,
   "id": "eb4dce7f-5914-4bdd-a7b1-ac3465c37a3c",
   "metadata": {},
   "outputs": [],
   "source": [
    "for i in range(10000):\n",
    "    name=\"Ayush/Ayush \"+str(i+1)\n",
    "    os.mkdir(name)"
   ]
  },
  {
   "cell_type": "code",
   "execution_count": 11,
   "id": "833ff666-940c-4351-984d-a05053acfd57",
   "metadata": {},
   "outputs": [],
   "source": [
    "name=\"MAksood\"\n",
    "os.mkdir(name)\n",
    "for i in range(100):\n",
    "    fname=name+'/'+name+str(i+1)\n",
    "    os.mkdir(fname)"
   ]
  },
  {
   "cell_type": "code",
   "execution_count": null,
   "id": "98f24bae-cca4-4e84-92cb-63273e2d6783",
   "metadata": {},
   "outputs": [],
   "source": []
  }
 ],
 "metadata": {
  "kernelspec": {
   "display_name": "Python 3 (ipykernel)",
   "language": "python",
   "name": "python3"
  },
  "language_info": {
   "codemirror_mode": {
    "name": "ipython",
    "version": 3
   },
   "file_extension": ".py",
   "mimetype": "text/x-python",
   "name": "python",
   "nbconvert_exporter": "python",
   "pygments_lexer": "ipython3",
   "version": "3.11.7"
  }
 },
 "nbformat": 4,
 "nbformat_minor": 5
}
